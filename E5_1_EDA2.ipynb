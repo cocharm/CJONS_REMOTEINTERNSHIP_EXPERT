{
 "cells": [
  {
   "cell_type": "code",
   "execution_count": 1,
   "id": "25d19398",
   "metadata": {},
   "outputs": [],
   "source": [
    "import numpy as np\n",
    "import pandas as pd\n",
    "import seaborn as sns\n",
    "import matplotlib.pyplot as plt\n",
    "import matplotlib "
   ]
  },
  {
   "cell_type": "code",
   "execution_count": 2,
   "id": "3d60d498",
   "metadata": {},
   "outputs": [
    {
     "name": "stderr",
     "output_type": "stream",
     "text": [
      "C:\\Users\\darle\\anaconda3\\lib\\site-packages\\IPython\\core\\interactiveshell.py:3444: DtypeWarning: Columns (4) have mixed types.Specify dtype option on import or set low_memory=False.\n",
      "  exec(code_obj, self.user_global_ns, self.user_ns)\n"
     ]
    }
   ],
   "source": [
    "DEMO = pd.read_csv('LPOINT_BIG_COMP_01_DEMO.csv',encoding='cp949') # 고객정보\n",
    "PDDE = pd.read_csv('LPOINT_BIG_COMP_02_PDDE.csv', parse_dates = [6],encoding='cp949') # 구매정보\n",
    "CLAC = pd.read_csv('LPOINT_BIG_COMP_04_PD_CLAC.csv',encoding='cp949') # 상품 정보"
   ]
  },
  {
   "cell_type": "code",
   "execution_count": 3,
   "id": "c56e11f1",
   "metadata": {},
   "outputs": [
    {
     "name": "stdout",
     "output_type": "stream",
     "text": [
      "(196262, 16)\n"
     ]
    },
    {
     "data": {
      "text/html": [
       "<div>\n",
       "<style scoped>\n",
       "    .dataframe tbody tr th:only-of-type {\n",
       "        vertical-align: middle;\n",
       "    }\n",
       "\n",
       "    .dataframe tbody tr th {\n",
       "        vertical-align: top;\n",
       "    }\n",
       "\n",
       "    .dataframe thead th {\n",
       "        text-align: right;\n",
       "    }\n",
       "</style>\n",
       "<table border=\"1\" class=\"dataframe\">\n",
       "  <thead>\n",
       "    <tr style=\"text-align: right;\">\n",
       "      <th></th>\n",
       "      <th>cust</th>\n",
       "      <th>rct_no</th>\n",
       "      <th>chnl_dv</th>\n",
       "      <th>cop_c</th>\n",
       "      <th>br_c</th>\n",
       "      <th>pd_c</th>\n",
       "      <th>de_dt</th>\n",
       "      <th>de_hr</th>\n",
       "      <th>buy_am</th>\n",
       "      <th>buy_ct</th>\n",
       "      <th>ma_fem_dv</th>\n",
       "      <th>ages</th>\n",
       "      <th>zon_hlv</th>\n",
       "      <th>pd_nm</th>\n",
       "      <th>clac_hlv_nm</th>\n",
       "      <th>clac_mcls_nm</th>\n",
       "    </tr>\n",
       "  </thead>\n",
       "  <tbody>\n",
       "    <tr>\n",
       "      <th>654</th>\n",
       "      <td>M496844384</td>\n",
       "      <td>A02191496496</td>\n",
       "      <td>1</td>\n",
       "      <td>A02</td>\n",
       "      <td>A020053</td>\n",
       "      <td>PD0290</td>\n",
       "      <td>2021-05-08</td>\n",
       "      <td>17</td>\n",
       "      <td>39000.0</td>\n",
       "      <td>1</td>\n",
       "      <td>여성</td>\n",
       "      <td>20대</td>\n",
       "      <td>Z17</td>\n",
       "      <td>남성티셔츠</td>\n",
       "      <td>남성의류</td>\n",
       "      <td>남성의류상의</td>\n",
       "    </tr>\n",
       "    <tr>\n",
       "      <th>2574</th>\n",
       "      <td>M748140584</td>\n",
       "      <td>A02262444001</td>\n",
       "      <td>1</td>\n",
       "      <td>A02</td>\n",
       "      <td>A020080</td>\n",
       "      <td>PD0290</td>\n",
       "      <td>2021-01-08</td>\n",
       "      <td>17</td>\n",
       "      <td>20000.0</td>\n",
       "      <td>2</td>\n",
       "      <td>남성</td>\n",
       "      <td>20대</td>\n",
       "      <td>Z11</td>\n",
       "      <td>남성티셔츠</td>\n",
       "      <td>남성의류</td>\n",
       "      <td>남성의류상의</td>\n",
       "    </tr>\n",
       "    <tr>\n",
       "      <th>2575</th>\n",
       "      <td>M748140584</td>\n",
       "      <td>A02262444001</td>\n",
       "      <td>1</td>\n",
       "      <td>A02</td>\n",
       "      <td>A020080</td>\n",
       "      <td>PD0290</td>\n",
       "      <td>2021-01-08</td>\n",
       "      <td>17</td>\n",
       "      <td>9000.0</td>\n",
       "      <td>9</td>\n",
       "      <td>남성</td>\n",
       "      <td>20대</td>\n",
       "      <td>Z11</td>\n",
       "      <td>남성티셔츠</td>\n",
       "      <td>남성의류</td>\n",
       "      <td>남성의류상의</td>\n",
       "    </tr>\n",
       "    <tr>\n",
       "      <th>2576</th>\n",
       "      <td>M748140584</td>\n",
       "      <td>A02262444001</td>\n",
       "      <td>1</td>\n",
       "      <td>A02</td>\n",
       "      <td>A020080</td>\n",
       "      <td>PD0290</td>\n",
       "      <td>2021-01-08</td>\n",
       "      <td>17</td>\n",
       "      <td>900.0</td>\n",
       "      <td>9</td>\n",
       "      <td>남성</td>\n",
       "      <td>20대</td>\n",
       "      <td>Z11</td>\n",
       "      <td>남성티셔츠</td>\n",
       "      <td>남성의류</td>\n",
       "      <td>남성의류상의</td>\n",
       "    </tr>\n",
       "    <tr>\n",
       "      <th>3166</th>\n",
       "      <td>M395590139</td>\n",
       "      <td>A02064243742</td>\n",
       "      <td>1</td>\n",
       "      <td>A02</td>\n",
       "      <td>A020012</td>\n",
       "      <td>PD0290</td>\n",
       "      <td>2021-02-01</td>\n",
       "      <td>11</td>\n",
       "      <td>600.0</td>\n",
       "      <td>6</td>\n",
       "      <td>여성</td>\n",
       "      <td>20대</td>\n",
       "      <td>Z17</td>\n",
       "      <td>남성티셔츠</td>\n",
       "      <td>남성의류</td>\n",
       "      <td>남성의류상의</td>\n",
       "    </tr>\n",
       "  </tbody>\n",
       "</table>\n",
       "</div>"
      ],
      "text/plain": [
       "            cust        rct_no  chnl_dv cop_c     br_c    pd_c      de_dt  \\\n",
       "654   M496844384  A02191496496        1   A02  A020053  PD0290 2021-05-08   \n",
       "2574  M748140584  A02262444001        1   A02  A020080  PD0290 2021-01-08   \n",
       "2575  M748140584  A02262444001        1   A02  A020080  PD0290 2021-01-08   \n",
       "2576  M748140584  A02262444001        1   A02  A020080  PD0290 2021-01-08   \n",
       "3166  M395590139  A02064243742        1   A02  A020012  PD0290 2021-02-01   \n",
       "\n",
       "      de_hr   buy_am  buy_ct ma_fem_dv ages zon_hlv  pd_nm clac_hlv_nm  \\\n",
       "654      17  39000.0       1        여성  20대     Z17  남성티셔츠        남성의류   \n",
       "2574     17  20000.0       2        남성  20대     Z11  남성티셔츠        남성의류   \n",
       "2575     17   9000.0       9        남성  20대     Z11  남성티셔츠        남성의류   \n",
       "2576     17    900.0       9        남성  20대     Z11  남성티셔츠        남성의류   \n",
       "3166     11    600.0       6        여성  20대     Z17  남성티셔츠        남성의류   \n",
       "\n",
       "     clac_mcls_nm  \n",
       "654        남성의류상의  \n",
       "2574       남성의류상의  \n",
       "2575       남성의류상의  \n",
       "2576       남성의류상의  \n",
       "3166       남성의류상의  "
      ]
     },
     "execution_count": 3,
     "metadata": {},
     "output_type": "execute_result"
    }
   ],
   "source": [
    "DF = pd.merge(PDDE, DEMO, on='cust')\n",
    "DF = pd.merge(DF, CLAC, on='pd_c')\n",
    "DF = DF.loc[(DF['ages'] == '20대')&(DF['cop_c'].apply(lambda x: x in ['A02', 'A03', 'A04']))]\n",
    "print(DF.shape)\n",
    "DF.head()"
   ]
  },
  {
   "cell_type": "code",
   "execution_count": 4,
   "id": "a0e1bff8",
   "metadata": {},
   "outputs": [
    {
     "data": {
      "text/html": [
       "<div>\n",
       "<style scoped>\n",
       "    .dataframe tbody tr th:only-of-type {\n",
       "        vertical-align: middle;\n",
       "    }\n",
       "\n",
       "    .dataframe tbody tr th {\n",
       "        vertical-align: top;\n",
       "    }\n",
       "\n",
       "    .dataframe thead th {\n",
       "        text-align: right;\n",
       "    }\n",
       "</style>\n",
       "<table border=\"1\" class=\"dataframe\">\n",
       "  <thead>\n",
       "    <tr style=\"text-align: right;\">\n",
       "      <th></th>\n",
       "      <th>cust</th>\n",
       "      <th>rct_no</th>\n",
       "      <th>chnl_dv</th>\n",
       "      <th>cop_c</th>\n",
       "      <th>br_c</th>\n",
       "      <th>pd_c</th>\n",
       "      <th>de_dt</th>\n",
       "      <th>de_hr</th>\n",
       "      <th>buy_am</th>\n",
       "      <th>buy_ct</th>\n",
       "      <th>ma_fem_dv</th>\n",
       "      <th>ages</th>\n",
       "      <th>zon_hlv</th>\n",
       "      <th>pd_nm</th>\n",
       "      <th>clac_hlv_nm</th>\n",
       "      <th>clac_mcls_nm</th>\n",
       "    </tr>\n",
       "  </thead>\n",
       "  <tbody>\n",
       "    <tr>\n",
       "      <th>35376</th>\n",
       "      <td>M686795542</td>\n",
       "      <td>A02311400378</td>\n",
       "      <td>1</td>\n",
       "      <td>A02</td>\n",
       "      <td>A020097</td>\n",
       "      <td>PD0239</td>\n",
       "      <td>2021-02-15</td>\n",
       "      <td>17</td>\n",
       "      <td>1980.0</td>\n",
       "      <td>1</td>\n",
       "      <td>여성</td>\n",
       "      <td>20대</td>\n",
       "      <td>Z16</td>\n",
       "      <td>쉘초콜릿</td>\n",
       "      <td>과자</td>\n",
       "      <td>초콜릿</td>\n",
       "    </tr>\n",
       "    <tr>\n",
       "      <th>35382</th>\n",
       "      <td>M009032626</td>\n",
       "      <td>A02311603194</td>\n",
       "      <td>1</td>\n",
       "      <td>A02</td>\n",
       "      <td>A020097</td>\n",
       "      <td>PD0239</td>\n",
       "      <td>2021-03-22</td>\n",
       "      <td>15</td>\n",
       "      <td>1480.0</td>\n",
       "      <td>1</td>\n",
       "      <td>남성</td>\n",
       "      <td>20대</td>\n",
       "      <td>Z16</td>\n",
       "      <td>쉘초콜릿</td>\n",
       "      <td>과자</td>\n",
       "      <td>초콜릿</td>\n",
       "    </tr>\n",
       "    <tr>\n",
       "      <th>35398</th>\n",
       "      <td>M268811651</td>\n",
       "      <td>A04007138336</td>\n",
       "      <td>1</td>\n",
       "      <td>A04</td>\n",
       "      <td>A042952</td>\n",
       "      <td>PD0239</td>\n",
       "      <td>2021-01-30</td>\n",
       "      <td>13</td>\n",
       "      <td>1200.0</td>\n",
       "      <td>1</td>\n",
       "      <td>여성</td>\n",
       "      <td>20대</td>\n",
       "      <td>Z04</td>\n",
       "      <td>쉘초콜릿</td>\n",
       "      <td>과자</td>\n",
       "      <td>초콜릿</td>\n",
       "    </tr>\n",
       "    <tr>\n",
       "      <th>35413</th>\n",
       "      <td>M988646555</td>\n",
       "      <td>A02233500236</td>\n",
       "      <td>1</td>\n",
       "      <td>A02</td>\n",
       "      <td>A020068</td>\n",
       "      <td>PD0239</td>\n",
       "      <td>2021-06-20</td>\n",
       "      <td>14</td>\n",
       "      <td>4780.0</td>\n",
       "      <td>1</td>\n",
       "      <td>여성</td>\n",
       "      <td>20대</td>\n",
       "      <td>Z09</td>\n",
       "      <td>쉘초콜릿</td>\n",
       "      <td>과자</td>\n",
       "      <td>초콜릿</td>\n",
       "    </tr>\n",
       "    <tr>\n",
       "      <th>35414</th>\n",
       "      <td>M988646555</td>\n",
       "      <td>A04042704742</td>\n",
       "      <td>1</td>\n",
       "      <td>A04</td>\n",
       "      <td>A042362</td>\n",
       "      <td>PD0239</td>\n",
       "      <td>2021-05-27</td>\n",
       "      <td>16</td>\n",
       "      <td>1500.0</td>\n",
       "      <td>1</td>\n",
       "      <td>여성</td>\n",
       "      <td>20대</td>\n",
       "      <td>Z09</td>\n",
       "      <td>쉘초콜릿</td>\n",
       "      <td>과자</td>\n",
       "      <td>초콜릿</td>\n",
       "    </tr>\n",
       "  </tbody>\n",
       "</table>\n",
       "</div>"
      ],
      "text/plain": [
       "             cust        rct_no  chnl_dv cop_c     br_c    pd_c      de_dt  \\\n",
       "35376  M686795542  A02311400378        1   A02  A020097  PD0239 2021-02-15   \n",
       "35382  M009032626  A02311603194        1   A02  A020097  PD0239 2021-03-22   \n",
       "35398  M268811651  A04007138336        1   A04  A042952  PD0239 2021-01-30   \n",
       "35413  M988646555  A02233500236        1   A02  A020068  PD0239 2021-06-20   \n",
       "35414  M988646555  A04042704742        1   A04  A042362  PD0239 2021-05-27   \n",
       "\n",
       "       de_hr  buy_am  buy_ct ma_fem_dv ages zon_hlv pd_nm clac_hlv_nm  \\\n",
       "35376     17  1980.0       1        여성  20대     Z16  쉘초콜릿          과자   \n",
       "35382     15  1480.0       1        남성  20대     Z16  쉘초콜릿          과자   \n",
       "35398     13  1200.0       1        여성  20대     Z04  쉘초콜릿          과자   \n",
       "35413     14  4780.0       1        여성  20대     Z09  쉘초콜릿          과자   \n",
       "35414     16  1500.0       1        여성  20대     Z09  쉘초콜릿          과자   \n",
       "\n",
       "      clac_mcls_nm  \n",
       "35376          초콜릿  \n",
       "35382          초콜릿  \n",
       "35398          초콜릿  \n",
       "35413          초콜릿  \n",
       "35414          초콜릿  "
      ]
     },
     "execution_count": 4,
     "metadata": {},
     "output_type": "execute_result"
    }
   ],
   "source": [
    "factor1 = ['채소', '조미료', '축산물', '과일', '수산물', '건해산물', '양곡', '병통조림', '유제품']\n",
    "factor2 = ['음료', '과자', '조리식품', '대용식', '냉동식품', '냉장식품', '주류']\n",
    "\n",
    "fa1df = DF.loc[DF['clac_hlv_nm'].apply(lambda x: x in factor1)]\n",
    "fa2df = DF.loc[DF['clac_hlv_nm'].apply(lambda x: x in factor2)]\n",
    "fa2df.head()"
   ]
  },
  {
   "cell_type": "code",
   "execution_count": 5,
   "id": "53c4f0dc",
   "metadata": {},
   "outputs": [],
   "source": [
    "Factor1 = fa1df.groupby('cust')['rct_no'].unique().apply(lambda x: len(x)).to_frame('fa1_rct_n')\n",
    "Factor2 = fa2df.groupby('cust')['rct_no'].unique().apply(lambda x: len(x)).to_frame('fa2_rct_n')"
   ]
  },
  {
   "cell_type": "code",
   "execution_count": 6,
   "id": "739d4e56",
   "metadata": {
    "scrolled": true
   },
   "outputs": [
    {
     "name": "stdout",
     "output_type": "stream",
     "text": [
      "(1836, 2)\n"
     ]
    },
    {
     "data": {
      "text/html": [
       "<div>\n",
       "<style scoped>\n",
       "    .dataframe tbody tr th:only-of-type {\n",
       "        vertical-align: middle;\n",
       "    }\n",
       "\n",
       "    .dataframe tbody tr th {\n",
       "        vertical-align: top;\n",
       "    }\n",
       "\n",
       "    .dataframe thead th {\n",
       "        text-align: right;\n",
       "    }\n",
       "</style>\n",
       "<table border=\"1\" class=\"dataframe\">\n",
       "  <thead>\n",
       "    <tr style=\"text-align: right;\">\n",
       "      <th></th>\n",
       "      <th>fa1_rct_n</th>\n",
       "      <th>fa2_rct_n</th>\n",
       "    </tr>\n",
       "    <tr>\n",
       "      <th>cust</th>\n",
       "      <th></th>\n",
       "      <th></th>\n",
       "    </tr>\n",
       "  </thead>\n",
       "  <tbody>\n",
       "    <tr>\n",
       "      <th>M000871427</th>\n",
       "      <td>6</td>\n",
       "      <td>9</td>\n",
       "    </tr>\n",
       "    <tr>\n",
       "      <th>M001403108</th>\n",
       "      <td>12</td>\n",
       "      <td>12</td>\n",
       "    </tr>\n",
       "    <tr>\n",
       "      <th>M002122238</th>\n",
       "      <td>5</td>\n",
       "      <td>22</td>\n",
       "    </tr>\n",
       "    <tr>\n",
       "      <th>M002238144</th>\n",
       "      <td>53</td>\n",
       "      <td>99</td>\n",
       "    </tr>\n",
       "    <tr>\n",
       "      <th>M002352655</th>\n",
       "      <td>17</td>\n",
       "      <td>14</td>\n",
       "    </tr>\n",
       "  </tbody>\n",
       "</table>\n",
       "</div>"
      ],
      "text/plain": [
       "            fa1_rct_n  fa2_rct_n\n",
       "cust                            \n",
       "M000871427          6          9\n",
       "M001403108         12         12\n",
       "M002122238          5         22\n",
       "M002238144         53         99\n",
       "M002352655         17         14"
      ]
     },
     "execution_count": 6,
     "metadata": {},
     "output_type": "execute_result"
    }
   ],
   "source": [
    "FAdf = pd.merge(Factor1, Factor2, left_index = True, right_index = True)\n",
    "print(FAdf.shape)\n",
    "FAdf.head()\n",
    "#상품 구매데이터 고객기준으로 합쳐서/ scatter plot을 그려보거나, 구매 데이터에 합쳐서 성별 분포 확인, 시간대 확인 "
   ]
  },
  {
   "cell_type": "markdown",
   "id": "56d0ba83",
   "metadata": {},
   "source": [
    "# 상품 종류별 성별 구매량 비교"
   ]
  },
  {
   "cell_type": "code",
   "execution_count": 7,
   "id": "ffd36864",
   "metadata": {},
   "outputs": [],
   "source": [
    "plt.rcParams['font.family'] = 'Malgun Gothic'"
   ]
  },
  {
   "cell_type": "code",
   "execution_count": 8,
   "id": "0e752b60",
   "metadata": {},
   "outputs": [
    {
     "data": {
      "text/html": [
       "<div>\n",
       "<style scoped>\n",
       "    .dataframe tbody tr th:only-of-type {\n",
       "        vertical-align: middle;\n",
       "    }\n",
       "\n",
       "    .dataframe tbody tr th {\n",
       "        vertical-align: top;\n",
       "    }\n",
       "\n",
       "    .dataframe thead th {\n",
       "        text-align: right;\n",
       "    }\n",
       "</style>\n",
       "<table border=\"1\" class=\"dataframe\">\n",
       "  <thead>\n",
       "    <tr style=\"text-align: right;\">\n",
       "      <th></th>\n",
       "      <th>clac_hlv_nm</th>\n",
       "      <th>ma_fem_dv</th>\n",
       "      <th>buy_ct</th>\n",
       "    </tr>\n",
       "  </thead>\n",
       "  <tbody>\n",
       "    <tr>\n",
       "      <th>0</th>\n",
       "      <td>건해산물</td>\n",
       "      <td>남성</td>\n",
       "      <td>558</td>\n",
       "    </tr>\n",
       "    <tr>\n",
       "      <th>1</th>\n",
       "      <td>건해산물</td>\n",
       "      <td>여성</td>\n",
       "      <td>1361</td>\n",
       "    </tr>\n",
       "    <tr>\n",
       "      <th>2</th>\n",
       "      <td>과일</td>\n",
       "      <td>남성</td>\n",
       "      <td>2618</td>\n",
       "    </tr>\n",
       "    <tr>\n",
       "      <th>3</th>\n",
       "      <td>과일</td>\n",
       "      <td>여성</td>\n",
       "      <td>7101</td>\n",
       "    </tr>\n",
       "    <tr>\n",
       "      <th>4</th>\n",
       "      <td>병통조림</td>\n",
       "      <td>남성</td>\n",
       "      <td>460</td>\n",
       "    </tr>\n",
       "  </tbody>\n",
       "</table>\n",
       "</div>"
      ],
      "text/plain": [
       "  clac_hlv_nm ma_fem_dv  buy_ct\n",
       "0        건해산물        남성     558\n",
       "1        건해산물        여성    1361\n",
       "2          과일        남성    2618\n",
       "3          과일        여성    7101\n",
       "4        병통조림        남성     460"
      ]
     },
     "execution_count": 8,
     "metadata": {},
     "output_type": "execute_result"
    }
   ],
   "source": [
    "fact_1 = fa1df.groupby([\"clac_hlv_nm\",\"ma_fem_dv\"])['buy_ct'].sum()\n",
    "fact1_df = pd.DataFrame(fact_1, columns=['buy_ct'])\n",
    "\n",
    "fact1_df.reset_index(inplace=True)\n",
    "fact1_df.head()"
   ]
  },
  {
   "cell_type": "code",
   "execution_count": 9,
   "id": "1e4fa257",
   "metadata": {},
   "outputs": [
    {
     "data": {
      "image/png": "[encoded data removed]",
      "text/plain": [
       "<Figure size 432x288 with 1 Axes>"
      ]
     },
     "metadata": {
      "needs_background": "light"
     },
     "output_type": "display_data"
    }
   ],
   "source": [
    "sns.barplot(x=\"clac_hlv_nm\",y=\"buy_ct\",hue=\"ma_fem_dv\",data=fact1_df)\n",
    "plt.title(\"상품 종류별 성별 구매량 비교 2\")\n",
    "plt.show()"
   ]
  },
  {
   "cell_type": "code",
   "execution_count": 10,
   "id": "9fda1a2e",
   "metadata": {},
   "outputs": [
    {
     "data": {
      "text/html": [
       "<div>\n",
       "<style scoped>\n",
       "    .dataframe tbody tr th:only-of-type {\n",
       "        vertical-align: middle;\n",
       "    }\n",
       "\n",
       "    .dataframe tbody tr th {\n",
       "        vertical-align: top;\n",
       "    }\n",
       "\n",
       "    .dataframe thead th {\n",
       "        text-align: right;\n",
       "    }\n",
       "</style>\n",
       "<table border=\"1\" class=\"dataframe\">\n",
       "  <thead>\n",
       "    <tr style=\"text-align: right;\">\n",
       "      <th></th>\n",
       "      <th>clac_hlv_nm</th>\n",
       "      <th>ma_fem_dv</th>\n",
       "      <th>buy_ct</th>\n",
       "    </tr>\n",
       "  </thead>\n",
       "  <tbody>\n",
       "    <tr>\n",
       "      <th>0</th>\n",
       "      <td>과자</td>\n",
       "      <td>남성</td>\n",
       "      <td>7671</td>\n",
       "    </tr>\n",
       "    <tr>\n",
       "      <th>1</th>\n",
       "      <td>과자</td>\n",
       "      <td>여성</td>\n",
       "      <td>18610</td>\n",
       "    </tr>\n",
       "    <tr>\n",
       "      <th>2</th>\n",
       "      <td>냉동식품</td>\n",
       "      <td>남성</td>\n",
       "      <td>2869</td>\n",
       "    </tr>\n",
       "    <tr>\n",
       "      <th>3</th>\n",
       "      <td>냉동식품</td>\n",
       "      <td>여성</td>\n",
       "      <td>5875</td>\n",
       "    </tr>\n",
       "    <tr>\n",
       "      <th>4</th>\n",
       "      <td>냉장식품</td>\n",
       "      <td>남성</td>\n",
       "      <td>4697</td>\n",
       "    </tr>\n",
       "  </tbody>\n",
       "</table>\n",
       "</div>"
      ],
      "text/plain": [
       "  clac_hlv_nm ma_fem_dv  buy_ct\n",
       "0          과자        남성    7671\n",
       "1          과자        여성   18610\n",
       "2        냉동식품        남성    2869\n",
       "3        냉동식품        여성    5875\n",
       "4        냉장식품        남성    4697"
      ]
     },
     "execution_count": 10,
     "metadata": {},
     "output_type": "execute_result"
    }
   ],
   "source": [
    "fact_2 = fa2df.groupby([\"clac_hlv_nm\",\"ma_fem_dv\"])['buy_ct'].sum()\n",
    "fact2_df = pd.DataFrame(fact_2, columns=['buy_ct'])\n",
    "\n",
    "fact2_df.reset_index(inplace=True)\n",
    "fact2_df.head()"
   ]
  },
  {
   "cell_type": "code",
   "execution_count": 11,
   "id": "b1448b51",
   "metadata": {},
   "outputs": [
    {
     "data": {
      "image/png": "[encoded data removed]",
      "text/plain": [
       "<Figure size 432x288 with 1 Axes>"
      ]
     },
     "metadata": {
      "needs_background": "light"
     },
     "output_type": "display_data"
    }
   ],
   "source": [
    "sns.barplot(x=\"clac_hlv_nm\",y=\"buy_ct\",hue=\"ma_fem_dv\",data=fact2_df)\n",
    "plt.title(\"상품 종류별 성별 구매량 비교 2\")\n",
    "plt.show()"
   ]
  },
  {
   "cell_type": "markdown",
   "id": "ec09c91b",
   "metadata": {},
   "source": [
    "# 시간대별/상품별 구매량 1"
   ]
  },
  {
   "cell_type": "code",
   "execution_count": 16,
   "id": "879d7331",
   "metadata": {},
   "outputs": [
    {
     "data": {
      "text/html": [
       "<div>\n",
       "<style scoped>\n",
       "    .dataframe tbody tr th:only-of-type {\n",
       "        vertical-align: middle;\n",
       "    }\n",
       "\n",
       "    .dataframe tbody tr th {\n",
       "        vertical-align: top;\n",
       "    }\n",
       "\n",
       "    .dataframe thead th {\n",
       "        text-align: right;\n",
       "    }\n",
       "</style>\n",
       "<table border=\"1\" class=\"dataframe\">\n",
       "  <thead>\n",
       "    <tr style=\"text-align: right;\">\n",
       "      <th></th>\n",
       "      <th>de_hr</th>\n",
       "      <th>clac_hlv_nm</th>\n",
       "      <th>cust</th>\n",
       "    </tr>\n",
       "  </thead>\n",
       "  <tbody>\n",
       "    <tr>\n",
       "      <th>0</th>\n",
       "      <td>0</td>\n",
       "      <td>건해산물</td>\n",
       "      <td>4</td>\n",
       "    </tr>\n",
       "    <tr>\n",
       "      <th>1</th>\n",
       "      <td>0</td>\n",
       "      <td>과일</td>\n",
       "      <td>19</td>\n",
       "    </tr>\n",
       "    <tr>\n",
       "      <th>2</th>\n",
       "      <td>0</td>\n",
       "      <td>병통조림</td>\n",
       "      <td>4</td>\n",
       "    </tr>\n",
       "    <tr>\n",
       "      <th>3</th>\n",
       "      <td>0</td>\n",
       "      <td>수산물</td>\n",
       "      <td>8</td>\n",
       "    </tr>\n",
       "    <tr>\n",
       "      <th>4</th>\n",
       "      <td>0</td>\n",
       "      <td>유제품</td>\n",
       "      <td>104</td>\n",
       "    </tr>\n",
       "  </tbody>\n",
       "</table>\n",
       "</div>"
      ],
      "text/plain": [
       "   de_hr clac_hlv_nm  cust\n",
       "0      0        건해산물     4\n",
       "1      0          과일    19\n",
       "2      0        병통조림     4\n",
       "3      0         수산물     8\n",
       "4      0         유제품   104"
      ]
     },
     "execution_count": 16,
     "metadata": {},
     "output_type": "execute_result"
    }
   ],
   "source": [
    "times_1 = fa1df.groupby([\"de_hr\",\"clac_hlv_nm\"])['cust'].count()\n",
    "times_1_df = pd.DataFrame(times_1, columns=['cust'])\n",
    "\n",
    "times_1_df.reset_index(inplace=True)\n",
    "times_1_df.head()"
   ]
  },
  {
   "cell_type": "code",
   "execution_count": 17,
   "id": "8dd427a7",
   "metadata": {},
   "outputs": [
    {
     "data": {
      "text/plain": [
       "array(['건해산물', '과일', '병통조림', '수산물', '유제품', '조미료', '채소', '축산물', '양곡'],\n",
       "      dtype=object)"
      ]
     },
     "execution_count": 17,
     "metadata": {},
     "output_type": "execute_result"
    }
   ],
   "source": [
    "times_1_df[\"clac_hlv_nm\"].dropna()\n",
    "times_1_df['clac_hlv_nm'].unique()"
   ]
  },
  {
   "cell_type": "code",
   "execution_count": 18,
   "id": "30ac1cb2",
   "metadata": {
    "scrolled": true
   },
   "outputs": [
    {
     "data": {
      "text/plain": [
       "<AxesSubplot:xlabel='de_hr', ylabel='cust'>"
      ]
     },
     "execution_count": 18,
     "metadata": {},
     "output_type": "execute_result"
    },
    {
     "data": {
      "image/png": "[encoded data removed]",
      "text/plain": [
       "<Figure size 1440x720 with 1 Axes>"
      ]
     },
     "metadata": {
      "needs_background": "light"
     },
     "output_type": "display_data"
    }
   ],
   "source": [
    "plt.figure(figsize=(20, 10))\n",
    "sns.scatterplot(x=times_1_df['de_hr'],y=times_1_df['cust'],hue=times_1_df['clac_hlv_nm'],s=times_1_df['cust']/2)"
   ]
  },
  {
   "cell_type": "markdown",
   "id": "25c2f118",
   "metadata": {},
   "source": [
    "# 시간대별/상품별 구매량 2"
   ]
  },
  {
   "cell_type": "code",
   "execution_count": 19,
   "id": "78f78b56",
   "metadata": {},
   "outputs": [
    {
     "data": {
      "text/html": [
       "<div>\n",
       "<style scoped>\n",
       "    .dataframe tbody tr th:only-of-type {\n",
       "        vertical-align: middle;\n",
       "    }\n",
       "\n",
       "    .dataframe tbody tr th {\n",
       "        vertical-align: top;\n",
       "    }\n",
       "\n",
       "    .dataframe thead th {\n",
       "        text-align: right;\n",
       "    }\n",
       "</style>\n",
       "<table border=\"1\" class=\"dataframe\">\n",
       "  <thead>\n",
       "    <tr style=\"text-align: right;\">\n",
       "      <th></th>\n",
       "      <th>de_hr</th>\n",
       "      <th>clac_hlv_nm</th>\n",
       "      <th>cust</th>\n",
       "    </tr>\n",
       "  </thead>\n",
       "  <tbody>\n",
       "    <tr>\n",
       "      <th>0</th>\n",
       "      <td>0</td>\n",
       "      <td>과자</td>\n",
       "      <td>250</td>\n",
       "    </tr>\n",
       "    <tr>\n",
       "      <th>1</th>\n",
       "      <td>0</td>\n",
       "      <td>냉동식품</td>\n",
       "      <td>108</td>\n",
       "    </tr>\n",
       "    <tr>\n",
       "      <th>2</th>\n",
       "      <td>0</td>\n",
       "      <td>냉장식품</td>\n",
       "      <td>90</td>\n",
       "    </tr>\n",
       "    <tr>\n",
       "      <th>3</th>\n",
       "      <td>0</td>\n",
       "      <td>대용식</td>\n",
       "      <td>136</td>\n",
       "    </tr>\n",
       "    <tr>\n",
       "      <th>4</th>\n",
       "      <td>0</td>\n",
       "      <td>음료</td>\n",
       "      <td>343</td>\n",
       "    </tr>\n",
       "  </tbody>\n",
       "</table>\n",
       "</div>"
      ],
      "text/plain": [
       "   de_hr clac_hlv_nm  cust\n",
       "0      0          과자   250\n",
       "1      0        냉동식품   108\n",
       "2      0        냉장식품    90\n",
       "3      0         대용식   136\n",
       "4      0          음료   343"
      ]
     },
     "execution_count": 19,
     "metadata": {},
     "output_type": "execute_result"
    }
   ],
   "source": [
    "times_2 = fa2df.groupby([\"de_hr\",\"clac_hlv_nm\"])['cust'].count()\n",
    "times_2_df = pd.DataFrame(times_2, columns=['cust'])\n",
    "\n",
    "times_2_df.reset_index(inplace=True)\n",
    "times_2_df.head()"
   ]
  },
  {
   "cell_type": "code",
   "execution_count": 20,
   "id": "541edfa6",
   "metadata": {},
   "outputs": [
    {
     "data": {
      "text/plain": [
       "array(['과자', '냉동식품', '냉장식품', '대용식', '음료', '조리식품', '주류'], dtype=object)"
      ]
     },
     "execution_count": 20,
     "metadata": {},
     "output_type": "execute_result"
    }
   ],
   "source": [
    "times_2_df[\"clac_hlv_nm\"].dropna()\n",
    "times_2_df['clac_hlv_nm'].unique()"
   ]
  },
  {
   "cell_type": "code",
   "execution_count": 21,
   "id": "5fbdf241",
   "metadata": {},
   "outputs": [
    {
     "data": {
      "text/plain": [
       "<AxesSubplot:xlabel='de_hr', ylabel='cust'>"
      ]
     },
     "execution_count": 21,
     "metadata": {},
     "output_type": "execute_result"
    },
    {
     "data": {
      "image/png": "[encoded data removed]",
      "text/plain": [
       "<Figure size 1440x720 with 1 Axes>"
      ]
     },
     "metadata": {
      "needs_background": "light"
     },
     "output_type": "display_data"
    }
   ],
   "source": [
    "plt.figure(figsize=(20, 10))\n",
    "sns.scatterplot(x=times_2_df['de_hr'],y=times_2_df['cust'],hue=times_2_df['clac_hlv_nm'],s=times_2_df['cust']/2)"
   ]
  }
 ],
 "metadata": {
  "kernelspec": {
   "display_name": "Python 3 (ipykernel)",
   "language": "python",
   "name": "python3"
  },
  "language_info": {
   "codemirror_mode": {
    "name": "ipython",
    "version": 3
   },
   "file_extension": ".py",
   "mimetype": "text/x-python",
   "name": "python",
   "nbconvert_exporter": "python",
   "pygments_lexer": "ipython3",
   "version": "3.9.7"
  }
 },
 "nbformat": 4,
 "nbformat_minor": 5
}
